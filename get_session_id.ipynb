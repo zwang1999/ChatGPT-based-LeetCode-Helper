{
 "cells": [
  {
   "cell_type": "code",
   "execution_count": 1,
   "id": "faab6ae1",
   "metadata": {},
   "outputs": [],
   "source": [
    "# F12 --> enter a question on leetcode --> graphql/ --> Request Headers --> cookie --> copy the string to s\n",
    "s = ''"
   ]
  },
  {
   "cell_type": "code",
   "execution_count": 2,
   "id": "3525df47",
   "metadata": {},
   "outputs": [
    {
     "data": {
      "text/plain": [
       "['']"
      ]
     },
     "execution_count": 2,
     "metadata": {},
     "output_type": "execute_result"
    }
   ],
   "source": [
    "# copy the LEETCODE_SESSION string to accounts_info.json\n",
    "s.split(';')"
   ]
  }
 ],
 "metadata": {
  "kernelspec": {
   "display_name": "Python 3 (ipykernel)",
   "language": "python",
   "name": "python3"
  },
  "language_info": {
   "codemirror_mode": {
    "name": "ipython",
    "version": 3
   },
   "file_extension": ".py",
   "mimetype": "text/x-python",
   "name": "python",
   "nbconvert_exporter": "python",
   "pygments_lexer": "ipython3",
   "version": "3.8.8"
  }
 },
 "nbformat": 4,
 "nbformat_minor": 5
}
