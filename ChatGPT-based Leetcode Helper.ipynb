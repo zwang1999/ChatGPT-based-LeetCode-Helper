{
 "cells": [
  {
   "cell_type": "markdown",
   "id": "e9d3b9e2",
   "metadata": {},
   "source": [
    "# ChatGPT-based Leetcode Helper"
   ]
  },
  {
   "cell_type": "markdown",
   "id": "cbdbf182",
   "metadata": {},
   "source": [
    "## Requests-based Scraper"
   ]
  },
  {
   "cell_type": "code",
   "execution_count": 1,
   "id": "5bafb4a9",
   "metadata": {},
   "outputs": [],
   "source": [
    "import requests\n",
    "import json\n",
    "import re\n",
    "import time\n",
    "import numpy as np\n",
    "import matplotlib.pyplot as plt\n",
    "from scipy import stats\n",
    "from queue import Queue\n",
    "from threading import Thread\n",
    "from threading import Lock\n",
    "from multiprocessing import cpu_count\n",
    "from multiprocessing.pool import Pool\n",
    "\n",
    "session = requests.Session()\n",
    "user_agent = r'Mozilla/5.0 (Windows NT 6.1; WOW64) AppleWebKit/537.36 (KHTML, like Gecko) Chrome/44.0.2403.157 Safari/537.36'\n",
    "\n",
    "def get_question_info():\n",
    "    # Only focus on the questions with python solutions ('Algorithm').\n",
    "    url = 'https://leetcode.com/api/problems/algorithms/'\n",
    "    headers = {\n",
    "        'User-Agent': user_agent, \n",
    "        'Connection': 'keep-alive'\n",
    "    }\n",
    "    response = session.get(url, headers = headers, timeout = 10)\n",
    "    question_info = []\n",
    "    question_list = json.loads(response.content.decode('utf-8'))\n",
    "    for question in question_list['stat_status_pairs']:\n",
    "        backend_id = question['stat']['question_id']\n",
    "        frontend_id = question['stat']['frontend_question_id']\n",
    "        title = question['stat']['question__title']\n",
    "        slug = question['stat']['question__title_slug']\n",
    "        difficulty = question['difficulty']['level']\n",
    "        paid_only = question['paid_only']\n",
    "        question_info.append((backend_id, frontend_id, title, slug, difficulty, paid_only)) \n",
    "    return question_info\n",
    "\n",
    "def get_question_by_slug(slug, sleep = False):\n",
    "    url = 'https://leetcode.com/graphql'\n",
    "    params = {\n",
    "        'operationName': 'getQuestionDetail',\n",
    "        'variables': {'titleSlug': slug},\n",
    "        'query': '''\n",
    "            query getQuestionDetail($titleSlug: String!) {\n",
    "                question(titleSlug: $titleSlug) {\n",
    "                    questionId\n",
    "                    similarQuestions\n",
    "                    topicTags {name}\n",
    "                    content\n",
    "                    codeSnippets {code}\n",
    "                }\n",
    "            }\n",
    "        '''\n",
    "    }\n",
    "    params = json.dumps(params).encode('utf8')         \n",
    "    headers = {\n",
    "        'User-Agent': user_agent,\n",
    "        'Connection': 'keep-alive', \n",
    "        'Content-Type': 'application/json',\n",
    "        'Referer': 'https://leetcode.com/problems/' + slug\n",
    "    }\n",
    "    response = session.post(url, data = params, headers = headers, timeout = 10)\n",
    "    content = response.json()\n",
    "    \n",
    "    if sleep:\n",
    "        time.sleep(0.5)\n",
    "    \n",
    "    question = content['data']['question']\n",
    "    question['similarQuestions'] = parse_similar_questions(question['similarQuestions'])\n",
    "    question['topicTags'] = [info['name'] for info in question['topicTags']]\n",
    "    question['content'] = parse_content(question['content'])\n",
    "    question['code'] = question['codeSnippets'][3]['code'] # python3 starter code\n",
    "    return question\n",
    "\n",
    "def parse_similar_questions(s):\n",
    "    questions = s[2:-2].split('}, {')\n",
    "    for i, q in enumerate(questions):\n",
    "        q = q[1:]\n",
    "        questions[i] = {}\n",
    "        for info in q.split('\", \"')[:-1]:\n",
    "            info = info.split('\": \"')\n",
    "            questions[i][info[0]] = info[1]\n",
    "    return questions\n",
    "\n",
    "def parse_content(s):\n",
    "    contents = s.split('Constraints:')\n",
    "    contents = contents[0].split('<strong class=\"example\">') + ['Constraints: ' + contents[1].split('Follow-up:')[0]]\n",
    "    replace_before = [\n",
    "        ('<p>', ' '), ('</p>', ' '), \n",
    "        ('<code>', ' '), ('</code>', ' '), \n",
    "        ('<em>', ' '), ('</em>', ' '), \n",
    "        ('<li>', ' '), ('</li>', ' '), \n",
    "        ('<strong>', ' '), ('</strong>', ' '), \n",
    "        ('<pre>', ' '), ('</pre>', ' '),\n",
    "        ('<sup>', '^'), ('</sup>', ' '), \n",
    "        ('<sub>', '_'), ('</sub>', ' '), \n",
    "        ('<ul>', ' '), ('</ul>', ' '),\n",
    "        ('&nbsp;', ' '),\n",
    "        ('&#39;', '\\''),\n",
    "        ('&lt;', '<'),\n",
    "        ('&quot;', '\"'),\n",
    "        ('\\n', ' ')\n",
    "    ]\n",
    "    replace_after = [\n",
    "        (' ,', ','), \n",
    "        (' .', '.'), \n",
    "        (' ;', ';'),\n",
    "        ('.;', ';'),\n",
    "        (' Output:', '; Output:'),\n",
    "        (' Explanation:', '; Explanation:')\n",
    "    ]\n",
    "    contents[-1] = contents[-1].replace('</li>', ';')\n",
    "    for i in range(len(contents)):\n",
    "        for s1, s2 in replace_before:\n",
    "            contents[i] = contents[i].replace(s1, s2)\n",
    "        contents[i] = re.sub('<.*/>', ' ', contents[i]) # for image\n",
    "        contents[i] = ' '.join(contents[i].split()) # remove extra whitespace\n",
    "        for s1, s2 in replace_after:\n",
    "            contents[i] = contents[i].replace(s1, s2)\n",
    "    contents[-1] = contents[-1][:-1] + '.'\n",
    "    return contents"
   ]
  },
  {
   "cell_type": "code",
   "execution_count": 2,
   "id": "2ccc7128",
   "metadata": {},
   "outputs": [],
   "source": [
    "question_info = get_question_info()\n",
    "\n",
    "id_to_frontend_id = {}\n",
    "id_to_title = {}\n",
    "frontend_id_to_slug = {}\n",
    "title_to_slug = {}\n",
    "slug_to_paid_only = {}\n",
    "\n",
    "for info in question_info:\n",
    "    id_to_frontend_id[info[0]] = info[1]\n",
    "    id_to_title[info[0]] = info[2]\n",
    "    frontend_id_to_slug[info[1]] = info[3]\n",
    "    title_to_slug[info[2]] = info[3]\n",
    "    slug_to_paid_only[info[3]] = info[5]"
   ]
  },
  {
   "cell_type": "markdown",
   "id": "c93cba4a",
   "metadata": {},
   "source": [
    "### Find an Appropriate Thread-to-Question Ratio"
   ]
  },
  {
   "cell_type": "code",
   "execution_count": 3,
   "id": "77c5e7a9",
   "metadata": {},
   "outputs": [],
   "source": [
    "ratio_test = False"
   ]
  },
  {
   "cell_type": "code",
   "execution_count": 4,
   "id": "ef1d601d",
   "metadata": {},
   "outputs": [],
   "source": [
    "if ratio_test:\n",
    "    all_slugs = [info[3] for info in question_info]\n",
    "    all_slugs = list(filter(lambda x : not slug_to_paid_only[x], all_slugs))"
   ]
  },
  {
   "cell_type": "code",
   "execution_count": 5,
   "id": "3d479f05",
   "metadata": {},
   "outputs": [],
   "source": [
    "if ratio_test:\n",
    "    n = 20\n",
    "    test_slugs = all_slugs[:n]"
   ]
  },
  {
   "cell_type": "code",
   "execution_count": 6,
   "id": "36f29a8c",
   "metadata": {
    "scrolled": true
   },
   "outputs": [],
   "source": [
    "if ratio_test:\n",
    "    times = []\n",
    "    for num_threads in range(10, n + 2):\n",
    "        questions = []\n",
    "        lock = Lock()\n",
    "        def get_question_by_slug_threading(q):\n",
    "            while True:\n",
    "                slug = q.get()\n",
    "                question = get_question_by_slug(slug)\n",
    "                with lock:\n",
    "                    questions.append(question)\n",
    "                q.task_done()\n",
    "\n",
    "        start_time = time.time()\n",
    "    \n",
    "        q = Queue()\n",
    "\n",
    "        for i in range(num_threads):\n",
    "            worker = Thread(target = get_question_by_slug_threading, args = (q, ))\n",
    "            worker.setDaemon(True) \n",
    "            worker.start()\n",
    "\n",
    "        for slug in test_slugs:\n",
    "            q.put(slug)\n",
    "\n",
    "        q.join()\n",
    "         \n",
    "        end_time = time.time()\n",
    "    \n",
    "        times.append(end_time - start_time)"
   ]
  },
  {
   "cell_type": "code",
   "execution_count": 7,
   "id": "7f78b9ef",
   "metadata": {},
   "outputs": [],
   "source": [
    "if ratio_test:\n",
    "    plt.plot(np.arange(10, n + 2), times)\n",
    "    plt.axhline(y = min(times), color = 'r', linewidth = 0.5)\n",
    "    print(times.index(min(times)) + 10, min(times))"
   ]
  },
  {
   "cell_type": "code",
   "execution_count": 8,
   "id": "3d39deef",
   "metadata": {},
   "outputs": [
    {
     "data": {
      "image/png": "[encoded data removed]",
      "text/plain": [
       "<Figure size 800x450 with 1 Axes>"
      ]
     },
     "metadata": {},
     "output_type": "display_data"
    }
   ],
   "source": [
    "# The result from 3 trials on 7 scopes of questions\n",
    "min_time_threads_num = {\n",
    "    20: [11, 20, 21],\n",
    "    30: [30, 20, 21],\n",
    "    40: [38, 33, 25],\n",
    "    50: [36, 30, 42],\n",
    "    60: [47, 33, 21],\n",
    "    70: [39, 55, 30],\n",
    "    80: [50, 35, 40]\n",
    "}\n",
    "\n",
    "x = list(min_time_threads_num.keys())\n",
    "y = [(sum(value) / len(value)) / key for key, value in min_time_threads_num.items()]\n",
    "slope, intercept, _, _, _ = stats.linregress(x, y)\n",
    "\n",
    "def thread_to_question(x):\n",
    "    return slope * x + intercept\n",
    "\n",
    "plt.figure(figsize = (8, 4.5))\n",
    "plt.plot(x, y, label = 'Value Averaged over 3 trials')\n",
    "plt.plot(x, list(map(thread_to_question, x)), label = 'Value of Linear Fit')\n",
    "plt.xlabel('The Number of Questions')\n",
    "plt.ylabel('The Thread-to-Question Ratio')\n",
    "plt.grid()\n",
    "plt.legend()\n",
    "plt.show()"
   ]
  },
  {
   "cell_type": "markdown",
   "id": "6da49213",
   "metadata": {},
   "source": [
    "### Test the Feasibility of Cython Optimization"
   ]
  },
  {
   "cell_type": "code",
   "execution_count": 9,
   "id": "3d64125a",
   "metadata": {},
   "outputs": [],
   "source": [
    "cython_test = False"
   ]
  },
  {
   "cell_type": "code",
   "execution_count": 10,
   "id": "0d59e71c",
   "metadata": {},
   "outputs": [],
   "source": [
    "if cython_test:\n",
    "    all_slugs = [info[3] for info in question_info]\n",
    "    all_slugs = list(filter(lambda x : not slug_to_paid_only[x], all_slugs))"
   ]
  },
  {
   "cell_type": "code",
   "execution_count": 11,
   "id": "7954d2da",
   "metadata": {},
   "outputs": [],
   "source": [
    "if cython_test:\n",
    "    n = 20\n",
    "    test_slugs = all_slugs[:n]"
   ]
  },
  {
   "cell_type": "code",
   "execution_count": 12,
   "id": "a89223c4",
   "metadata": {},
   "outputs": [],
   "source": [
    "if cython_test:\n",
    "    start_time = time.time()\n",
    "\n",
    "    questions = [get_question_by_slug(slug) for slug in test_slugs]\n",
    "\n",
    "    end_time = time.time()\n",
    " \n",
    "    print(f'Time without Cython: {end_time - start_time} seconds')"
   ]
  },
  {
   "cell_type": "code",
   "execution_count": 13,
   "id": "4c4b06f7",
   "metadata": {},
   "outputs": [],
   "source": [
    "# %load_ext Cython"
   ]
  },
  {
   "cell_type": "code",
   "execution_count": 14,
   "id": "5e0b3ab9",
   "metadata": {},
   "outputs": [],
   "source": [
    "# %%cython\n",
    "\n",
    "# # cython: linetrace=True\n",
    "# # cython: binding=True\n",
    "# # distutils: define_macros=CYTHON_TRACE_NOGIL=1\n",
    "# # cython: profile=True\n",
    "\n",
    "# import re\n",
    "\n",
    "# def parse_content(str s):\n",
    "#     cdef list contents = s.split('Constraints:')\n",
    "#     contents = contents[0].split('<strong class=\"example\">') + ['Constraints: ' + contents[1].split('Follow-up:')[0]]\n",
    "#     cdef list replace_before = [\n",
    "#         ('<p>', ' '), ('</p>', ' '), \n",
    "#         ('<code>', ' '), ('</code>', ' '), \n",
    "#         ('<em>', ' '), ('</em>', ' '), \n",
    "#         ('<li>', ' '), ('</li>', ' '), \n",
    "#         ('<strong>', ' '), ('</strong>', ' '), \n",
    "#         ('<pre>', ' '), ('</pre>', ' '),\n",
    "#         ('<sup>', '^'), ('</sup>', ' '), \n",
    "#         ('<sub>', '_'), ('</sub>', ' '), \n",
    "#         ('<ul>', ' '), ('</ul>', ' '),\n",
    "#         ('&nbsp;', ' '),\n",
    "#         ('&#39;', '\\''),\n",
    "#         ('&lt;', '<'),\n",
    "#         ('&quot;', '\"'),\n",
    "#         ('\\n', ' ')\n",
    "#     ]\n",
    "#     cdef list replace_after = [\n",
    "#         (' ,', ','), \n",
    "#         (' .', '.'), \n",
    "#         (' ;', ';'),\n",
    "#         ('.;', ';'),\n",
    "#         (' Output:', '; Output:'),\n",
    "#         (' Explanation:', '; Explanation:')\n",
    "#     ]\n",
    "#     contents[-1] = contents[-1].replace('</li>', ';')\n",
    "#     cdef int i\n",
    "#     cdef str s1\n",
    "#     cdef str s2\n",
    "#     for i in range(len(contents)):\n",
    "#         for s1, s2 in replace_before:\n",
    "#             contents[i] = contents[i].replace(s1, s2)\n",
    "#         contents[i] = re.sub('<.*/>', ' ', contents[i]) # for image\n",
    "#         contents[i] = ' '.join(contents[i].split()) # remove extra whitespace\n",
    "#         for s1, s2 in replace_after:\n",
    "#             contents[i] = contents[i].replace(s1, s2)\n",
    "#     contents[-1] = contents[-1][:-1] + '.'\n",
    "#     return contents"
   ]
  },
  {
   "cell_type": "code",
   "execution_count": 15,
   "id": "55793413",
   "metadata": {},
   "outputs": [],
   "source": [
    "if cython_test:\n",
    "    start_time = time.time()\n",
    "\n",
    "    questions = [get_question_by_slug(slug) for slug in test_slugs]\n",
    "\n",
    "    end_time = time.time()\n",
    " \n",
    "    print(f'Time with Cython: {end_time - start_time} seconds')"
   ]
  },
  {
   "cell_type": "markdown",
   "id": "d1e8a7f6",
   "metadata": {},
   "source": [
    "### Test the Best Method to Achieve Concurrency"
   ]
  },
  {
   "cell_type": "code",
   "execution_count": 16,
   "id": "de738f7e",
   "metadata": {},
   "outputs": [],
   "source": [
    "concurrency_test = False"
   ]
  },
  {
   "cell_type": "code",
   "execution_count": 17,
   "id": "14c8842b",
   "metadata": {},
   "outputs": [],
   "source": [
    "# Possible query types: id, title, difficulty, topic\n",
    "\n",
    "query = 1\n",
    "query_type = 'id'\n",
    "\n",
    "# query = 'Two Sum'\n",
    "# query_type = 'title'\n",
    "\n",
    "# query = 'Easy'\n",
    "# query_type = 'difficulty'\n",
    "\n",
    "# query = 'Segment Tree'\n",
    "# query_type = 'topic'"
   ]
  },
  {
   "cell_type": "code",
   "execution_count": 18,
   "id": "5ecd311f",
   "metadata": {},
   "outputs": [],
   "source": [
    "if query_type == 'id':\n",
    "    # Scrape the detailed information of the given question and its similar questions\n",
    "    slug = frontend_id_to_slug[query]\n",
    "    question = get_question_by_slug(slug)\n",
    "    start_time = time.time()\n",
    "    question_slugs = [slug] + [info['titleSlug'] for info in question['similarQuestions']]\n",
    "    question_slugs = list(filter(lambda x : not slug_to_paid_only[x], question_slugs))\n",
    "elif query_type == 'title':\n",
    "    # Scrape the detailed information of the given question and its similar questions\n",
    "    slug = title_to_slug[query]\n",
    "    question = get_question_by_slug(slug)\n",
    "    question_slugs = [slug] + [info['titleSlug'] for info in question['similarQuestions']]\n",
    "    question_slugs = list(filter(lambda x : not slug_to_paid_only[x], question_slugs))\n",
    "elif query_type == 'difficulty':\n",
    "    # Scrape the detailed information of the questions with the given difficulty\n",
    "    difficulty_index = {'Easy': 1, 'Medium': 2, 'Hard': 3}\n",
    "    question_slugs = [info[3] for info in question_info if info[4] == difficulty_index[query]]\n",
    "    question_slugs = list(filter(lambda x : not slug_to_paid_only[x], question_slugs))\n",
    "elif query_type == 'topic':\n",
    "    # Scrape the detailed information of all questions and filter it at the end\n",
    "    question_slugs = [info[3] for info in question_info]\n",
    "    question_slugs = list(filter(lambda x : not slug_to_paid_only[x], question_slugs))\n",
    "else:\n",
    "    raise Exception('Invalid query type')"
   ]
  },
  {
   "cell_type": "code",
   "execution_count": 19,
   "id": "71b0c6d4",
   "metadata": {},
   "outputs": [],
   "source": [
    "# Serial\n",
    "if concurrency_test:\n",
    "    start_time = time.time()\n",
    "\n",
    "    questions = [get_question_by_slug(slug) for slug in question_slugs]\n",
    "\n",
    "    end_time = time.time()\n",
    "\n",
    "    print(f'Time for Serial: {end_time - start_time} seconds')"
   ]
  },
  {
   "cell_type": "code",
   "execution_count": 20,
   "id": "121b86c0",
   "metadata": {},
   "outputs": [
    {
     "name": "stdout",
     "output_type": "stream",
     "text": [
      "Time for 17 Threads: 0.3903687000274658 seconds\n"
     ]
    }
   ],
   "source": [
    "# Multithreading\n",
    "questions = []\n",
    "lock = Lock()\n",
    "def get_question_by_slug_threading(q):\n",
    "    while True:\n",
    "        slug, flag = q.get()\n",
    "        question = get_question_by_slug(slug, sleep = flag)\n",
    "        with lock:\n",
    "            questions.append(question)\n",
    "        q.task_done()\n",
    "\n",
    "start_time = time.time()\n",
    "    \n",
    "q = Queue()\n",
    "\n",
    "num_threads = round(max(0.1, thread_to_question(len(question_slugs))) * len(question_slugs))\n",
    "    \n",
    "for i in range(num_threads):\n",
    "    worker = Thread(target = get_question_by_slug_threading, args = (q, ))\n",
    "    worker.setDaemon(True) \n",
    "    worker.start()\n",
    "\n",
    "flag = len(question_slugs) > 50\n",
    "for slug in question_slugs:\n",
    "    q.put((slug, flag))\n",
    "\n",
    "q.join()\n",
    "         \n",
    "end_time = time.time()\n",
    " \n",
    "print(f'Time for {num_threads} Threads: {end_time - start_time} seconds')"
   ]
  },
  {
   "cell_type": "code",
   "execution_count": 21,
   "id": "9583feb4",
   "metadata": {},
   "outputs": [
    {
     "name": "stdout",
     "output_type": "stream",
     "text": [
      "Overwriting web_scraper.py\n"
     ]
    }
   ],
   "source": [
    "%%writefile web_scraper.py\n",
    "\n",
    "import requests\n",
    "import json\n",
    "import re\n",
    "import time\n",
    "\n",
    "session = requests.Session()\n",
    "user_agent = r'Mozilla/5.0 (Windows NT 6.1; WOW64) AppleWebKit/537.36 (KHTML, like Gecko) Chrome/44.0.2403.157 Safari/537.36'\n",
    "\n",
    "def get_question_by_slug_multiprocessing(slug, sleep = False):\n",
    "    url = 'https://leetcode.com/graphql'\n",
    "    params = {\n",
    "        'operationName': 'getQuestionDetail',\n",
    "        'variables': {'titleSlug': slug},\n",
    "        'query': '''\n",
    "            query getQuestionDetail($titleSlug: String!) {\n",
    "                question(titleSlug: $titleSlug) {\n",
    "                    questionId\n",
    "                    similarQuestions\n",
    "                    difficulty\n",
    "                    topicTags {name}\n",
    "                    content\n",
    "                    codeSnippets {code}\n",
    "                }\n",
    "            }\n",
    "        '''\n",
    "    }\n",
    "    params = json.dumps(params).encode('utf8')         \n",
    "    headers = {\n",
    "        'User-Agent': user_agent,\n",
    "        'Connection': 'keep-alive', \n",
    "        'Content-Type': 'application/json',\n",
    "        'Referer': 'https://leetcode.com/problems/' + slug\n",
    "    }\n",
    "    response = session.post(url, data = params, headers = headers, timeout = 10)\n",
    "    content = response.json()\n",
    "    \n",
    "    if sleep:\n",
    "        time.sleep(0.5)\n",
    "    \n",
    "    question = content['data']['question']\n",
    "    question['similarQuestions'] = parse_similar_questions(question['similarQuestions'])\n",
    "    question['topicTags'] = [info['name'] for info in question['topicTags']]\n",
    "    question['content'] = parse_content(question['content'])\n",
    "    question['code'] = question['codeSnippets'][3]['code'] # python3 starter code\n",
    "    return question\n",
    "\n",
    "def parse_similar_questions(s):\n",
    "    questions = s[2:-2].split('}, {')\n",
    "    for i, q in enumerate(questions):\n",
    "        q = q[1:]\n",
    "        questions[i] = {}\n",
    "        for info in q.split('\", \"')[:-1]:\n",
    "            info = info.split('\": \"')\n",
    "            questions[i][info[0]] = info[1]\n",
    "    return questions\n",
    "\n",
    "def parse_content(s):\n",
    "    contents = s.split('Constraints:')\n",
    "    contents = contents[0].split('<strong class=\"example\">') + ['Constraints: ' + contents[1].split('Follow-up:')[0]]\n",
    "    replace_before = [\n",
    "        ('<p>', ' '), ('</p>', ' '), \n",
    "        ('<code>', ' '), ('</code>', ' '), \n",
    "        ('<em>', ' '), ('</em>', ' '), \n",
    "        ('<li>', ' '), ('</li>', ' '), \n",
    "        ('<strong>', ' '), ('</strong>', ' '), \n",
    "        ('<pre>', ' '), ('</pre>', ' '),\n",
    "        ('<sup>', '^'), ('</sup>', ' '), \n",
    "        ('<sub>', '_'), ('</sub>', ' '), \n",
    "        ('<ul>', ' '), ('</ul>', ' '),\n",
    "        ('&nbsp;', ' '),\n",
    "        ('&#39;', '\\''),\n",
    "        ('&lt;', '<'),\n",
    "        ('&quot;', '\"'),\n",
    "        ('\\n', ' ')\n",
    "    ]\n",
    "    replace_after = [\n",
    "        (' ,', ','), \n",
    "        (' .', '.'), \n",
    "        (' ;', ';'),\n",
    "        ('.;', ';'),\n",
    "        (' Output:', '; Output:'),\n",
    "        (' Explanation:', '; Explanation:')\n",
    "    ]\n",
    "    contents[-1] = contents[-1].replace('</li>', ';')\n",
    "    for i in range(len(contents)):\n",
    "        for s1, s2 in replace_before:\n",
    "            contents[i] = contents[i].replace(s1, s2)\n",
    "        contents[i] = re.sub('<.*/>', ' ', contents[i]) # for image\n",
    "        contents[i] = ' '.join(contents[i].split()) # remove extra whitespace\n",
    "        for s1, s2 in replace_after:\n",
    "            contents[i] = contents[i].replace(s1, s2)\n",
    "    contents[-1] = contents[-1][:-1] + '.'\n",
    "    return contents"
   ]
  },
  {
   "cell_type": "code",
   "execution_count": 22,
   "id": "1df0ed46",
   "metadata": {},
   "outputs": [],
   "source": [
    "# Multiprocessing\n",
    "if concurrency_test:\n",
    "    from web_scraper import get_question_by_slug_multiprocessing\n",
    "\n",
    "    info = [slug for slug in question_slugs]\n",
    "\n",
    "    start_time = time.time()\n",
    "\n",
    "    num_processes = cpu_count()\n",
    "\n",
    "    with Pool(num_processes) as p:\n",
    "        replies = p.map(get_question_by_slug_multiprocessing, info)\n",
    "         \n",
    "    end_time = time.time()\n",
    " \n",
    "    print(f'Time for {num_processes} Processes: {end_time - start_time} seconds')"
   ]
  },
  {
   "cell_type": "code",
   "execution_count": 23,
   "id": "07ed29c9",
   "metadata": {},
   "outputs": [],
   "source": [
    "import random\n",
    "\n",
    "random.seed(0)\n",
    "\n",
    "if query_type == 'difficulty':\n",
    "    # Easy : Medium : Hard is approximately 1 : 2 : 1\n",
    "    if query == 'Medium':\n",
    "        questions = random.sample(questions, 500)\n",
    "    else:\n",
    "        questions = random.sample(questions, 250)\n",
    "elif query_type == 'topic':\n",
    "    questions = list(filter(lambda x : query in x['topicTags'], questions))\n",
    "\n",
    "questions.sort(key = lambda x : x['questionId'])\n",
    "# questions = questions[:80]"
   ]
  },
  {
   "cell_type": "code",
   "execution_count": 24,
   "id": "12b07572",
   "metadata": {},
   "outputs": [
    {
     "name": "stdout",
     "output_type": "stream",
     "text": [
      "The number of questions to be answered: 19\n",
      "Given an array of integers nums and an integer target, return indices of the two numbers such that they add up to target. You may assume that each input would have exactly one solution, and you may not use the same element twice. You can return the answer in any order.\n",
      "Example 1: Input: nums = [2,7,11,15], target = 9; Output: [0,1]; Explanation: Because nums[0] + nums[1] == 9, we return [0, 1].\n",
      "Example 2: Input: nums = [3,2,4], target = 6; Output: [1,2]\n",
      "Example 3: Input: nums = [3,3], target = 6; Output: [0,1]\n",
      "Constraints: 2 <= nums.length <= 10^4; -10^9 <= nums[i] <= 10^9; -10^9 <= target <= 10^9; Only one valid answer exists.\n"
     ]
    }
   ],
   "source": [
    "print(f'The number of questions to be answered: {len(questions)}')\n",
    "for content in questions[0]['content']:\n",
    "    print(content)"
   ]
  },
  {
   "cell_type": "markdown",
   "id": "1b2db05a",
   "metadata": {},
   "source": [
    "## ChatGPT Code Generation"
   ]
  },
  {
   "cell_type": "code",
   "execution_count": 25,
   "id": "f465dcf8",
   "metadata": {},
   "outputs": [],
   "source": [
    "import openai\n",
    "\n",
    "# Please enter your own OpenAI API key\n",
    "openai.api_key = ''\n",
    "feedback = False\n",
    "\n",
    "def content_to_prompt(content, code, feedback):\n",
    "    description = 'Here is the question prompt:\\n'\n",
    "    description += content[0] + '\\n'\n",
    "    \n",
    "    examples = 'Here are the example cases of input/output to better understand the question:\\n'\n",
    "    for example in content[1:-1]:\n",
    "        examples += example + '\\n'\n",
    "    \n",
    "    constraints = 'Here are the constraints on the value of variables:\\n'\n",
    "    constraints += content[-1] + '\\n'\n",
    "    \n",
    "    starter_code = 'The code must be started with:\\n'\n",
    "    starter_code += code\n",
    "\n",
    "    if not feedback:\n",
    "        message = 'Only write python3 code to answer the following question without any explanations:\\n'\n",
    "    else:\n",
    "        message = 'Write python3 code to answer the following question and then explain your code:\\n'\n",
    "    message += description + examples + constraints + starter_code\n",
    "    \n",
    "    return message\n",
    "\n",
    "def get_chatGPT_reply(questionId, content, code, feedback):\n",
    "    message = content_to_prompt(content, code, feedback)\n",
    "    messages = [{'role': 'user', 'content': message}]\n",
    "    chat_completion = openai.ChatCompletion.create(model = 'gpt-3.5-turbo', messages = messages)\n",
    "    reply = chat_completion.choices[0].message.content\n",
    "    return (int(questionId), reply)"
   ]
  },
  {
   "cell_type": "code",
   "execution_count": 26,
   "id": "6765517a",
   "metadata": {},
   "outputs": [],
   "source": [
    "# Serial\n",
    "if concurrency_test:\n",
    "    start_time = time.time()\n",
    "\n",
    "    replies = []\n",
    "    for question in questions:\n",
    "        replies.append(get_chatGPT_reply(question['questionId'], question['content'], question['code'], feedback))\n",
    "    \n",
    "    replies.sort(key = lambda x : x[0])\n",
    "         \n",
    "    end_time = time.time()\n",
    " \n",
    "    print(f'Time for Serial: {end_time - start_time} seconds')"
   ]
  },
  {
   "cell_type": "code",
   "execution_count": 27,
   "id": "98523a2c",
   "metadata": {},
   "outputs": [
    {
     "name": "stdout",
     "output_type": "stream",
     "text": [
      "Time for 17 Threads: 17.378830671310425 seconds\n"
     ]
    }
   ],
   "source": [
    "# Multithreading\n",
    "if len(questions) <= 50:\n",
    "    replies = []\n",
    "    lock = Lock()\n",
    "    def get_chatGPT_reply_threading(q):\n",
    "        while True:\n",
    "            questionId, content, code, feedback = q.get()\n",
    "            message = content_to_prompt(content, code, feedback)\n",
    "            messages = [{'role': 'user', 'content': message}]\n",
    "            chat_completion = openai.ChatCompletion.create(model = 'gpt-3.5-turbo', messages = messages)\n",
    "            reply = chat_completion.choices[0].message.content\n",
    "            with lock:\n",
    "                replies.append((int(questionId), reply))\n",
    "            q.task_done()\n",
    "\n",
    "    start_time = time.time()\n",
    "    \n",
    "    q = Queue()\n",
    "\n",
    "    num_threads = round(max(0.1, thread_to_question(len(questions))) * len(questions))\n",
    "    \n",
    "    for i in range(num_threads):\n",
    "        worker = Thread(target = get_chatGPT_reply_threading, args = (q, ))\n",
    "        worker.setDaemon(True) \n",
    "        worker.start()\n",
    "\n",
    "    for question in questions:\n",
    "        q.put((question['questionId'], question['content'], question['code'], feedback))\n",
    "\n",
    "    q.join()\n",
    "\n",
    "    replies.sort(key = lambda x : x[0])\n",
    "         \n",
    "    end_time = time.time()\n",
    " \n",
    "    print(f'Time for {num_threads} Threads: {end_time - start_time} seconds')"
   ]
  },
  {
   "cell_type": "code",
   "execution_count": 28,
   "id": "bfaac4ef",
   "metadata": {},
   "outputs": [
    {
     "name": "stdout",
     "output_type": "stream",
     "text": [
      "Overwriting code_generation.py\n"
     ]
    }
   ],
   "source": [
    "%%writefile code_generation.py\n",
    "\n",
    "import openai\n",
    "\n",
    "# Please enter your own OpenAI API key\n",
    "openai.api_key = ''\n",
    "feedback = False\n",
    "\n",
    "def content_to_prompt(content, code, feedback):\n",
    "    description = 'Here is the question prompt:\\n'\n",
    "    description += content[0] + '\\n'\n",
    "    \n",
    "    examples = 'Here are the example cases of input/output to better understand the question:\\n'\n",
    "    for example in content[1:-1]:\n",
    "        examples += example + '\\n'\n",
    "    \n",
    "    constraints = 'Here are the constraints on the value of variables:\\n'\n",
    "    constraints += content[-1] + '\\n'\n",
    "    \n",
    "    starter_code = 'The code must be started with:\\n'\n",
    "    starter_code += code\n",
    "\n",
    "    if not feedback:\n",
    "        message = 'Only write python3 code to answer the following question without any explanations:\\n'\n",
    "    else:\n",
    "        message = 'Write python3 code to answer the following question and then explain your code:\\n'\n",
    "    message += description + examples + constraints + starter_code\n",
    "    \n",
    "    return message\n",
    "\n",
    "def get_chatGPT_reply_multiprocessing(questionId, content, code, feedback):\n",
    "    message = content_to_prompt(content, code, feedback)\n",
    "    messages = [{'role': 'user', 'content': message}]\n",
    "    chat_completion = openai.ChatCompletion.create(model = 'gpt-3.5-turbo', messages = messages)\n",
    "    reply = chat_completion.choices[0].message.content\n",
    "    return (int(questionId), reply)"
   ]
  },
  {
   "cell_type": "code",
   "execution_count": 29,
   "id": "3c099241",
   "metadata": {},
   "outputs": [],
   "source": [
    "if len(questions) > 50:\n",
    "    from code_generation import get_chatGPT_reply_multiprocessing\n",
    "\n",
    "    info = [(question['questionId'], question['content'], question['code'], feedback) for question in questions]\n",
    "\n",
    "    start_time = time.time()\n",
    "\n",
    "    num_processes = cpu_count()\n",
    "\n",
    "    with Pool(num_processes) as p:\n",
    "        replies = p.starmap(get_chatGPT_reply_multiprocessing, info)\n",
    "    \n",
    "    replies.sort(key = lambda x : x[0])\n",
    "         \n",
    "    end_time = time.time()\n",
    " \n",
    "    print(f'Time for {num_processes} Processes: {end_time - start_time} seconds')"
   ]
  },
  {
   "cell_type": "code",
   "execution_count": 30,
   "id": "dd562321",
   "metadata": {},
   "outputs": [
    {
     "name": "stdout",
     "output_type": "stream",
     "text": [
      "1. Two Sum\n",
      "class Solution:\n",
      "    def twoSum(self, nums: List[int], target: int) -> List[int]:\n",
      "        dict_nums = {}\n",
      "        for i, num in enumerate(nums):\n",
      "            complement = target - num\n",
      "            if complement in dict_nums:\n",
      "                return [dict_nums[complement], i]\n",
      "            dict_nums[num] = i\n"
     ]
    }
   ],
   "source": [
    "print(f'{id_to_frontend_id[replies[0][0]]}. {id_to_title[replies[0][0]]}\\n{replies[0][1]}')"
   ]
  },
  {
   "cell_type": "markdown",
   "id": "1714a511",
   "metadata": {},
   "source": [
    "## Test the Accuracy of Solution"
   ]
  },
  {
   "cell_type": "code",
   "execution_count": 31,
   "id": "50c60613",
   "metadata": {},
   "outputs": [
    {
     "name": "stdout",
     "output_type": "stream",
     "text": [
      "{'data': {'problemset_question_list': None,\n",
      "          'question': None,\n",
      "          'user': {'is_current_user_premium': False, 'username': 'zwang1999'}}}\n"
     ]
    }
   ],
   "source": [
    "from leetcode_api import setup, status_check, submission\n",
    "from IPython.display import clear_output\n",
    "\n",
    "lang = 'python3'\n",
    "api_instance = setup()\n",
    "status_check(api_instance)"
   ]
  },
  {
   "cell_type": "code",
   "execution_count": 32,
   "id": "d3d17037",
   "metadata": {},
   "outputs": [
    {
     "name": "stdout",
     "output_type": "stream",
     "text": [
      "19/19 submissions completed\n",
      "{'Accepted': 13, 'Wrong Answer': 6}\n",
      "Accuracy: 0.6842105263157895\n"
     ]
    }
   ],
   "source": [
    "results = []\n",
    "count = {}\n",
    "\n",
    "for reply in replies:\n",
    "    question_id = reply[0]\n",
    "    code = reply[1]\n",
    "    \n",
    "    submission_result = submission(api_instance, question_id, code, lang=lang)\n",
    "    results.append(submission_result)\n",
    "\n",
    "    if submission_result['status_msg'] not in count:\n",
    "        count[submission_result['status_msg']] = 0\n",
    "    count[submission_result['status_msg']] += 1\n",
    "    \n",
    "    time.sleep(5)\n",
    "    \n",
    "    clear_output(wait = True)\n",
    "    print(f'{sum(count.values())}/{len(replies)} submissions completed')\n",
    "    print(count)\n",
    "\n",
    "print('Accuracy:', count['Accepted'] / sum(count.values()))"
   ]
  }
 ],
 "metadata": {
  "kernelspec": {
   "display_name": "Python 3 (ipykernel)",
   "language": "python",
   "name": "python3"
  },
  "language_info": {
   "codemirror_mode": {
    "name": "ipython",
    "version": 3
   },
   "file_extension": ".py",
   "mimetype": "text/x-python",
   "name": "python",
   "nbconvert_exporter": "python",
   "pygments_lexer": "ipython3",
   "version": "3.8.8"
  }
 },
 "nbformat": 4,
 "nbformat_minor": 5
}
